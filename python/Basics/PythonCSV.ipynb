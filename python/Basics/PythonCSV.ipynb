{
 "cells": [
  {
   "cell_type": "code",
   "execution_count": 25,
   "metadata": {},
   "outputs": [
    {
     "name": "stdout",
     "output_type": "stream",
     "text": [
      "['id', 'name', 'cost']\n",
      "['1', 'prashanth', '10']\n",
      "['2', 'pooja', '20']\n",
      "['3', 'pranav', '30']\n"
     ]
    }
   ],
   "source": [
    "import csv\n",
    "\n",
    "with open('testpanda.csv','r') as csv_file:\n",
    "    csv_content=csv.reader(csv_file) \n",
    "    for line in csv_content:\n",
    "        print(line)"
   ]
  },
  {
   "cell_type": "code",
   "execution_count": 11,
   "metadata": {},
   "outputs": [
    {
     "name": "stdout",
     "output_type": "stream",
     "text": [
      "['1', 'prashanth', '10']\n",
      "['2', 'pooja', '20']\n",
      "['3', 'pranav', '30']\n"
     ]
    }
   ],
   "source": [
    "import csv\n",
    "\n",
    "with open('testpanda.csv','r') as csv_file:\n",
    "    csv_content=csv.reader(csv_file)\n",
    "    next(csv_content)# To start from the next line (To skip first line) \n",
    "    for line in csv_content:\n",
    "        print(line)"
   ]
  },
  {
   "cell_type": "code",
   "execution_count": 24,
   "metadata": {},
   "outputs": [],
   "source": [
    "with open('testpanda.csv','r') as csv_file:\n",
    "    csv_content=csv.reader(csv_file)\n",
    "    with open('csv.csv','w') as wCsv_file:\n",
    "        csv_writer = csv.writer(wCsv_file,delimiter='-')\n",
    "        for line in csv_content:\n",
    "            csv_writer.writerow(line)"
   ]
  },
  {
   "cell_type": "code",
   "execution_count": 26,
   "metadata": {
    "collapsed": true
   },
   "outputs": [],
   "source": [
    "with open('testpanda.csv','r') as csv_file:\n",
    "    csv_content=csv.reader(csv_file)\n",
    "    with open('csv.csv','w') as wCsv_file:\n",
    "        csv_writer = csv.writer(wCsv_file,delimiter='\\t')\n",
    "        for line in csv_content:\n",
    "            csv_writer.writerow(line)"
   ]
  },
  {
   "cell_type": "code",
   "execution_count": 27,
   "metadata": {},
   "outputs": [
    {
     "name": "stdout",
     "output_type": "stream",
     "text": [
      "[]\n",
      "['1\\tprashanth\\t10']\n",
      "[]\n",
      "['2\\tpooja\\t20']\n",
      "[]\n",
      "['3\\tpranav\\t30']\n",
      "[]\n"
     ]
    }
   ],
   "source": [
    "import csv\n",
    "\n",
    "with open('csv.csv','r') as csv_file:\n",
    "    csv_content=csv.reader(csv_file)\n",
    "    next(csv_content)# To start from the next line (To skip first line) \n",
    "    for line in csv_content:\n",
    "        print(line)"
   ]
  },
  {
   "cell_type": "code",
   "execution_count": 29,
   "metadata": {},
   "outputs": [
    {
     "name": "stdout",
     "output_type": "stream",
     "text": [
      "['id', 'name', 'cost']\n",
      "[]\n",
      "['1', 'prashanth', '10']\n",
      "[]\n",
      "['2', 'pooja', '20']\n",
      "[]\n",
      "['3', 'pranav', '30']\n",
      "[]\n"
     ]
    }
   ],
   "source": [
    "import csv\n",
    "\n",
    "with open('csv.csv','r') as csv_file:\n",
    "    csv_content=csv.reader(csv_file,delimiter='\\t') \n",
    "    for line in csv_content:\n",
    "        print(line)"
   ]
  },
  {
   "cell_type": "code",
   "execution_count": 33,
   "metadata": {},
   "outputs": [
    {
     "name": "stdout",
     "output_type": "stream",
     "text": [
      "OrderedDict([('id', '1'), ('name', 'prashanth'), ('cost', '10')])\n",
      "OrderedDict([('id', '2'), ('name', 'pooja'), ('cost', '20')])\n",
      "OrderedDict([('id', '3'), ('name', 'pranav'), ('cost', '30')])\n"
     ]
    }
   ],
   "source": [
    "import csv\n",
    "\n",
    "with open('testpanda.csv','r') as csv_file:\n",
    "    csv_content=csv.DictReader(csv_file)\n",
    "    for line in csv_content:\n",
    "        print(line) "
   ]
  },
  {
   "cell_type": "code",
   "execution_count": 34,
   "metadata": {},
   "outputs": [
    {
     "name": "stdout",
     "output_type": "stream",
     "text": [
      "10\n",
      "20\n",
      "30\n"
     ]
    }
   ],
   "source": [
    "import csv\n",
    "\n",
    "with open('testpanda.csv','r') as csv_file:\n",
    "    csv_content=csv.DictReader(csv_file)\n",
    "    for line in csv_content:\n",
    "        print(line['cost']) "
   ]
  },
  {
   "cell_type": "code",
   "execution_count": 37,
   "metadata": {},
   "outputs": [],
   "source": [
    "import csv\n",
    "\n",
    "with open('testpanda.csv','r') as csv_file:\n",
    "    csv_reader=csv.DictReader(csv_file)\n",
    "    with open('csv.csv','w') as csv_file:\n",
    "       field_names=['id','name','cost']\n",
    "       csv_writer=csv.DictWriter(csv_file,fieldnames=field_names,delimiter='\\t')\n",
    "       csv_writer.writeheader()\n",
    "       for line in csv_reader:\n",
    "            csv_writer.writerow(line)\n",
    "            "
   ]
  },
  {
   "cell_type": "code",
   "execution_count": 39,
   "metadata": {
    "collapsed": true
   },
   "outputs": [],
   "source": [
    "import csv\n",
    "\n",
    "with open('testpanda.csv','r') as csv_file:\n",
    "    csv_reader=csv.DictReader(csv_file)\n",
    "    with open('csv.csv','w') as csv_file:\n",
    "       field_names=['id','cost']\n",
    "       csv_writer=csv.DictWriter(csv_file,fieldnames=field_names,delimiter='\\t')\n",
    "       csv_writer.writeheader()\n",
    "       for line in csv_reader:\n",
    "            del line['name']\n",
    "            csv_writer.writerow(line)"
   ]
  }
 ],
 "metadata": {
  "kernelspec": {
   "display_name": "Python 3",
   "language": "python",
   "name": "python3"
  },
  "language_info": {
   "codemirror_mode": {
    "name": "ipython",
    "version": 3
   },
   "file_extension": ".py",
   "mimetype": "text/x-python",
   "name": "python",
   "nbconvert_exporter": "python",
   "pygments_lexer": "ipython3",
   "version": "3.6.1"
  }
 },
 "nbformat": 4,
 "nbformat_minor": 2
}
