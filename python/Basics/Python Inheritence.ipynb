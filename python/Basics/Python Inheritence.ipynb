{
 "cells": [
  {
   "cell_type": "code",
   "execution_count": 35,
   "metadata": {},
   "outputs": [
    {
     "name": "stdout",
     "output_type": "stream",
     "text": [
      "Dev1\tPatel\n",
      "Dev1Patel\n",
      "None\n",
      "True\n",
      "True\n",
      "False\n",
      "False\n"
     ]
    }
   ],
   "source": [
    "#Blue print to Create an Instance\n",
    "class Employee:\n",
    "    \n",
    "    #class variable\n",
    "    rise_ratio=4\n",
    "    no_emp = 0\n",
    "    \n",
    "    #Constructor\n",
    "    def __init__(self,firstname,lastname,pay):\n",
    "        self.firstname=firstname\n",
    "        self.lastname=lastname\n",
    "        self.pay=pay\n",
    "        Employee.no_emp += 1\n",
    "        \n",
    "    #Method\n",
    "    def fullname(self):\n",
    "        print('{}{}'.format(self.firstname,self.lastname,self.pay))\n",
    "        \n",
    "    def apply_rise(self):\n",
    "        return '{}'.format(self.pay * self.rise_ratio)\n",
    "    \n",
    "    @classmethod\n",
    "    def set_rise_amount(cls,amount):\n",
    "        cls.rise_ratio= amount\n",
    "        \n",
    "    @classmethod\n",
    "    def from_string(cls,emp_str):\n",
    "        firstname,lastname,pay=emp3_str.split('-')\n",
    "        return cls(firstname,lastname,pay)\n",
    "    \n",
    "    @staticmethod\n",
    "    def is_workday(day):\n",
    "        if day.weekday()==5 or day.weekday()==6:\n",
    "            return False\n",
    "        return True\n",
    "\n",
    "class Developer(Employee):\n",
    "\n",
    "    rise_ratio = 10\n",
    "    \n",
    "    def __init__(self,firstname,lastname,pay,prog_lang):\n",
    "        super().__init__(firstname,lastname,pay)\n",
    "        self.prog_lang=prog_lang\n",
    "        \n",
    "class Manager(Employee):\n",
    "    rise_ratio = 10   \n",
    "    def __init__(self,firstname,lastname,pay,employees=None):\n",
    "        super().__init__(firstname,lastname,pay)\n",
    "        if employees is None:\n",
    "            employees=[]\n",
    "        else:\n",
    "            self.employees=employees\n",
    "            \n",
    "    def add_emp(self,emp):\n",
    "        if emp not in self.employees:\n",
    "            self.employees.append(emp)\n",
    "            \n",
    "    def remove_emp(self,emp):\n",
    "        if emp in self.employees:\n",
    "            self.employees.remove(emp)\n",
    "            \n",
    "    def print_emp(self):\n",
    "        for emp in self.employees:\n",
    "            print(emp.fullname())\n",
    "               \n",
    "\n",
    "dev_1=Developer('Dev1','Patel',2000,'Python')\n",
    "dev_2=Developer('Dev2','Patel',2000,'Python')\n",
    "\n",
    "print(dev_1.firstname,end='\\t')\n",
    "print(dev_1.lastname)\n",
    "\n",
    "mgr_1 = Manager('Mannu','Patel',90000,[dev_1])\n",
    "Manager.print_emp(mgr_1)\n",
    "\n",
    "print(isinstance(mgr_1,Manager))\n",
    "print(issubclass(Manager,Employee))\n",
    "print(isinstance(mgr_1,Developer))\n",
    "print(isinstance(Manager,Developer))\n",
    "\n",
    "#print(help(Developer))\n"
   ]
  },
  {
   "cell_type": "code",
   "execution_count": null,
   "metadata": {
    "collapsed": true
   },
   "outputs": [],
   "source": []
  }
 ],
 "metadata": {
  "kernelspec": {
   "display_name": "Python 3",
   "language": "python",
   "name": "python3"
  },
  "language_info": {
   "codemirror_mode": {
    "name": "ipython",
    "version": 3
   },
   "file_extension": ".py",
   "mimetype": "text/x-python",
   "name": "python",
   "nbconvert_exporter": "python",
   "pygments_lexer": "ipython3",
   "version": "3.6.1"
  }
 },
 "nbformat": 4,
 "nbformat_minor": 2
}
