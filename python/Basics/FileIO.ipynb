{
 "cells": [
  {
   "cell_type": "code",
   "execution_count": 15,
   "metadata": {},
   "outputs": [
    {
     "name": "stdout",
     "output_type": "stream",
     "text": [
      "Hello Pal!\n",
      "Hello Jake!\n"
     ]
    }
   ],
   "source": [
    "with open('test.txt','r') as f:\n",
    "    #To read small file\n",
    "    f_contents=f.read()\n",
    "    print(f_contents)"
   ]
  },
  {
   "cell_type": "code",
   "execution_count": 12,
   "metadata": {},
   "outputs": [
    {
     "name": "stdout",
     "output_type": "stream",
     "text": [
      "['Hello Pal!\\n', 'Hello Jake!']\n"
     ]
    }
   ],
   "source": [
    "with open('test.txt','r') as f:\n",
    "    #To read large file \n",
    "    f_contents=f.readlines()\n",
    "    print(f_contents)"
   ]
  },
  {
   "cell_type": "code",
   "execution_count": 14,
   "metadata": {},
   "outputs": [
    {
     "name": "stdout",
     "output_type": "stream",
     "text": [
      "Hello Pal!\n",
      "Hello Jake!"
     ]
    }
   ],
   "source": [
    "with open('test.txt','r') as f:\n",
    "    #To read file line by line\n",
    "    f_contents=f.readline()\n",
    "    print(f_contents,end='')\n",
    "    f_contents=f.readline()\n",
    "    print(f_contents,end='')"
   ]
  },
  {
   "cell_type": "code",
   "execution_count": 13,
   "metadata": {},
   "outputs": [
    {
     "name": "stdout",
     "output_type": "stream",
     "text": [
      "Hello Pal!\n",
      "Hello Jake!"
     ]
    }
   ],
   "source": [
    "with open('test.txt','r') as f:\n",
    "   #To avoid multiple readline() method we use for loop to read file\n",
    "   for line in f:\n",
    "        print(line,end='')"
   ]
  },
  {
   "cell_type": "code",
   "execution_count": 18,
   "metadata": {},
   "outputs": [
    {
     "name": "stdout",
     "output_type": "stream",
     "text": [
      "Hell\n",
      "o Pa\n"
     ]
    }
   ],
   "source": [
    "with open('test.txt','r') as f:\n",
    "    f_contents=f.read(4)  #Print only 4 charcters\n",
    "    print(f_contents) \n",
    "    f_contents=f.read(4)  \n",
    "    print(f_contents)"
   ]
  },
  {
   "cell_type": "code",
   "execution_count": 22,
   "metadata": {},
   "outputs": [
    {
     "name": "stdout",
     "output_type": "stream",
     "text": [
      "Hello Pal!\n",
      "Hello Jake!"
     ]
    }
   ],
   "source": [
    "with open('test.txt','r') as f:\n",
    "    size_to_read=10\n",
    "    f_contents=f.read(size_to_read)\n",
    "    while len(f_contents) > 0 :\n",
    "        print(f_contents,end='')\n",
    "        f_contents=f.read(size_to_read)\n",
    "    "
   ]
  },
  {
   "cell_type": "code",
   "execution_count": 27,
   "metadata": {},
   "outputs": [
    {
     "name": "stdout",
     "output_type": "stream",
     "text": [
      "Hello Pal!o Pal!\n",
      "Hel"
     ]
    }
   ],
   "source": [
    "with open('test.txt','r') as f:\n",
    "    size_to_read=10\n",
    "    f_contents=f.read(size_to_read)\n",
    "    print(f_contents,end='')\n",
    "    \n",
    "    f.seek(4)\n",
    "    \n",
    "    f_contents=f.read(size_to_read)\n",
    "    print(f_contents,end='')\n",
    "    \n",
    "    "
   ]
  },
  {
   "cell_type": "code",
   "execution_count": 31,
   "metadata": {},
   "outputs": [],
   "source": [
    "with open('test.txt','w') as f:\n",
    "    f.write(\"Hello Prash\")\n",
    "    f.write(\"Hello Prash\")\n",
    "    \n",
    "    #Output: Hello Prash Hello Prash"
   ]
  },
  {
   "cell_type": "code",
   "execution_count": 32,
   "metadata": {
    "collapsed": true
   },
   "outputs": [],
   "source": [
    "with open('test.txt','r') as rf:\n",
    "    with open('test_copy.txt','w') as wf:\n",
    "        for line in rf:\n",
    "            wf.write(line)\n",
    "   "
   ]
  },
  {
   "cell_type": "code",
   "execution_count": null,
   "metadata": {
    "collapsed": true
   },
   "outputs": [],
   "source": [
    "#While working with images append b \n",
    "with open('test.jpg','rb') as rf:\n",
    "    with open('test_copy.jpg','wb') as wf:\n",
    "        for line in rf:\n",
    "            wf.write(line)"
   ]
  }
 ],
 "metadata": {
  "kernelspec": {
   "display_name": "Python 3",
   "language": "python",
   "name": "python3"
  },
  "language_info": {
   "codemirror_mode": {
    "name": "ipython",
    "version": 3
   },
   "file_extension": ".py",
   "mimetype": "text/x-python",
   "name": "python",
   "nbconvert_exporter": "python",
   "pygments_lexer": "ipython3",
   "version": "3.6.1"
  }
 },
 "nbformat": 4,
 "nbformat_minor": 2
}
