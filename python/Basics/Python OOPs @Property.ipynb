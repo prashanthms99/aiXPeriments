{
 "cells": [
  {
   "cell_type": "code",
   "execution_count": 10,
   "metadata": {},
   "outputs": [
    {
     "name": "stdout",
     "output_type": "stream",
     "text": [
      "PrashPal\n",
      "None\n",
      "Prash.Pal@email.com\n",
      "Deleted Name!\n"
     ]
    }
   ],
   "source": [
    "#Blue print to Create an Instance\n",
    "class Employee:\n",
    "    #Constructor\n",
    "    def __init__(self,firstname,lastname,pay):\n",
    "        self.firstname=firstname\n",
    "        self.lastname=lastname\n",
    "        self.pay=pay\n",
    "    #Method\n",
    "    @property\n",
    "    def fullname(self):\n",
    "        print('{}{}'.format(self.firstname,self.lastname))\n",
    "    \n",
    "    #Function acting as a property\n",
    "    @property\n",
    "    def email(self):\n",
    "        return '{}.{}@email.com'.format(self.firstname,self.lastname)\n",
    "    \n",
    "    @fullname.setter\n",
    "    def fullname(self,name):\n",
    "        firstname,lastname = name.split(' ')\n",
    "        self.firstname=firstname\n",
    "        self.lastname=lastname\n",
    "        \n",
    "    @fullname.deleter\n",
    "    def fullname(self):\n",
    "        print(\"Deleted Name!\")\n",
    "        self.firstname=None\n",
    "        self.lastname=None\n",
    "    \n",
    "    \n",
    "emp_1 = Employee('Mac','Pal',1000)\n",
    "emp_2 = Employee('Peter','Parker',2000)\n",
    "\n",
    "emp_1.fullname='Prash Pal'\n",
    "\n",
    "print(emp_1.fullname)   \n",
    "print(emp_1.email)\n",
    "\n",
    "del emp_1.fullname\n",
    "    "
   ]
  },
  {
   "cell_type": "code",
   "execution_count": null,
   "metadata": {
    "collapsed": true
   },
   "outputs": [],
   "source": []
  }
 ],
 "metadata": {
  "kernelspec": {
   "display_name": "Python 3",
   "language": "python",
   "name": "python3"
  },
  "language_info": {
   "codemirror_mode": {
    "name": "ipython",
    "version": 3
   },
   "file_extension": ".py",
   "mimetype": "text/x-python",
   "name": "python",
   "nbconvert_exporter": "python",
   "pygments_lexer": "ipython3",
   "version": "3.6.1"
  }
 },
 "nbformat": 4,
 "nbformat_minor": 2
}
