{
 "cells": [
  {
   "cell_type": "code",
   "execution_count": 20,
   "metadata": {},
   "outputs": [
    {
     "name": "stdout",
     "output_type": "stream",
     "text": [
      "MacPal\n",
      "PeterParker\n",
      "MacPal\n",
      "PeterParker\n",
      "-------------\n",
      "Mac-Pal\n",
      "3000\n",
      "3\n"
     ]
    }
   ],
   "source": [
    "#Blue print to Create an Instance\n",
    "class Employee:\n",
    "    #Constructor\n",
    "    def __init__(self,firstname,lastname,pay):\n",
    "        self.firstname=firstname\n",
    "        self.lastname=lastname\n",
    "        self.pay=pay\n",
    "    #Method\n",
    "    def fullname(self):\n",
    "        print('{}{}'.format(self.firstname,self.lastname))\n",
    "        \n",
    "    #Magic functions    \n",
    "    def __repr__(self):\n",
    "        return \"Employee('{}','{}')\".format(self.firstname,self.lastname)\n",
    "    \n",
    "    def __str__(self):\n",
    "        return '{}-{}'.format(self.firstname,self.lastname)\n",
    "    \n",
    "    def __add__(self,other):\n",
    "        return self.pay + other.pay\n",
    "    \n",
    "    def __len__(self):\n",
    "        return len(self.firstname)\n",
    "        \n",
    "    \n",
    "    \n",
    "    \n",
    "emp_1 = Employee('Mac','Pal',1000)\n",
    "emp_2 = Employee('Peter','Parker',2000)\n",
    "\n",
    "Employee.fullname(emp_1)\n",
    "Employee.fullname(emp_2)\n",
    "\n",
    "emp_1.fullname()\n",
    "emp_2.fullname()\n",
    "print('-------------')\n",
    "\n",
    "print(emp_1)\n",
    "repr(emp_1)\n",
    "print(emp_1 + emp_2)\n",
    "print(len(emp_1))\n",
    "\n"
   ]
  },
  {
   "cell_type": "code",
   "execution_count": null,
   "metadata": {
    "collapsed": true
   },
   "outputs": [],
   "source": []
  }
 ],
 "metadata": {
  "kernelspec": {
   "display_name": "Python 3",
   "language": "python",
   "name": "python3"
  },
  "language_info": {
   "codemirror_mode": {
    "name": "ipython",
    "version": 3
   },
   "file_extension": ".py",
   "mimetype": "text/x-python",
   "name": "python",
   "nbconvert_exporter": "python",
   "pygments_lexer": "ipython3",
   "version": "3.6.1"
  }
 },
 "nbformat": 4,
 "nbformat_minor": 2
}
