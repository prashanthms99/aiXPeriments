{
 "cells": [
  {
   "cell_type": "code",
   "execution_count": 16,
   "metadata": {},
   "outputs": [
    {
     "name": "stdout",
     "output_type": "stream",
     "text": [
      "<__main__.Employee object at 0x000001414EA9CE10>\n",
      "Mac\n",
      "Pal\n"
     ]
    }
   ],
   "source": [
    "#Blue print to Create an Instance\n",
    "class Employee:\n",
    "    pass\n",
    "\n",
    "emp_1 = Employee()\n",
    "\n",
    "print(emp_1)\n",
    "\n",
    "emp_1.firstname='Mac'\n",
    "emp_1.lastname='Pal'\n",
    "\n",
    "print(emp_1.firstname)\n",
    "print(emp_1.lastname)"
   ]
  },
  {
   "cell_type": "code",
   "execution_count": 24,
   "metadata": {},
   "outputs": [
    {
     "name": "stdout",
     "output_type": "stream",
     "text": [
      "Mac\n",
      "Pal\n",
      "MacPal\n"
     ]
    }
   ],
   "source": [
    "#Blue print to Create an Instance\n",
    "class Employee:\n",
    "    #Constructor\n",
    "    def __init__(self,firstname,lastname):\n",
    "        self.firstname=firstname\n",
    "        self.lastname=lastname\n",
    "    \n",
    "emp_1 = Employee('Mac','Pal')\n",
    "print(emp_1.firstname)\n",
    "print(emp_1.lastname)\n",
    "print('{}{}'.format(emp_1.firstname,emp_1.lastname))"
   ]
  },
  {
   "cell_type": "code",
   "execution_count": 34,
   "metadata": {},
   "outputs": [
    {
     "name": "stdout",
     "output_type": "stream",
     "text": [
      "MacPal\n",
      "PeterParker\n",
      "MacPal\n",
      "PeterParker\n"
     ]
    }
   ],
   "source": [
    "#Blue print to Create an Instance\n",
    "class Employee:\n",
    "    #Constructor\n",
    "    def __init__(self,firstname,lastname):\n",
    "        self.firstname=firstname\n",
    "        self.lastname=lastname\n",
    "    #Method\n",
    "    def fullname(self):\n",
    "        print('{}{}'.format(self.firstname,self.lastname))\n",
    "    \n",
    "    \n",
    "emp_1 = Employee('Mac','Pal')\n",
    "emp_2 = Employee('Peter','Parker')\n",
    "\n",
    "Employee.fullname(emp_1)\n",
    "Employee.fullname(emp_2)\n",
    "\n",
    "emp_1.fullname()\n",
    "emp_2.fullname()\n"
   ]
  },
  {
   "cell_type": "code",
   "execution_count": 78,
   "metadata": {},
   "outputs": [
    {
     "name": "stdout",
     "output_type": "stream",
     "text": [
      "Class Level Rise:  4\n",
      "Instance emp 1 Level Rise:  2\n",
      "Employee 1 Pay after rise: 20000\n",
      "Employee 2 Pay after rise: 40000\n",
      "Employee 3 Pay after rise: 40000\n",
      "Number of Employee: 3\n",
      "New Employee Pay: 1000\n",
      "False\n"
     ]
    }
   ],
   "source": [
    "import datetime\n",
    "\n",
    "#Blue print to Create an Instance\n",
    "class Employee:\n",
    "    \n",
    "    #class variable\n",
    "    rise_ratio=4\n",
    "    no_emp = 0\n",
    "    \n",
    "    #Constructor\n",
    "    def __init__(self,firstname,lastname,pay):\n",
    "        self.firstname=firstname\n",
    "        self.lastname=lastname\n",
    "        self.pay=pay\n",
    "        Employee.no_emp += 1\n",
    "        \n",
    "    #Method\n",
    "    def fullname(self):\n",
    "        print('{}{}'.format(self.firstname,self.lastname,self.pay))\n",
    "        \n",
    "    def apply_rise(self):\n",
    "        return '{}'.format(self.pay * self.rise_ratio)\n",
    "    \n",
    "    @classmethod\n",
    "    def set_rise_amount(cls,amount):\n",
    "        cls.rise_ratio= amount\n",
    "        \n",
    "    @classmethod\n",
    "    def from_string(cls,emp_str):\n",
    "        firstname,lastname,pay=emp3_str.split('-')\n",
    "        return cls(firstname,lastname,pay)\n",
    "    \n",
    "    @staticmethod\n",
    "    def is_workday(day):\n",
    "        if day.weekday()==5 or day.weekday()==6:\n",
    "            return False\n",
    "        return True\n",
    "     \n",
    "        \n",
    "Employee.set_rise_amount(4)\n",
    "\n",
    "emp_1 = Employee('Mac','Pal',10000)\n",
    "emp_2 = Employee('Peter','Parker',10000)\n",
    "emp_3 = Employee('Peter','Parker',10000)\n",
    "\n",
    "#Instance Variable\n",
    "emp_1.rise_ratio = 2\n",
    "\n",
    "print(\"Class Level Rise: \",Employee.rise_ratio)\n",
    "print(\"Instance emp 1 Level Rise: \",emp_1.rise_ratio)\n",
    "\n",
    "print(\"Employee 1 Pay after rise:\",emp_1.apply_rise())\n",
    "\n",
    "print(\"Employee 2 Pay after rise:\",emp_2.apply_rise())\n",
    "\n",
    "print(\"Employee 3 Pay after rise:\",emp_3.apply_rise())\n",
    "\n",
    "print(\"Number of Employee:\",Employee.no_emp)\n",
    "\n",
    "#If we want to create employees by string\n",
    "\n",
    "emp3_str='Prash-Pal-1000'\n",
    "new_emp=Employee.from_string(emp3_str)\n",
    "print(\"New Employee Pay:\",new_emp.pay)\n",
    "\n",
    "my_date=datetime.date(2016,7,10)\n",
    "\n",
    "print(Employee.is_workday(my_date))\n",
    "\n",
    "\n",
    "\n",
    "\n"
   ]
  },
  {
   "cell_type": "code",
   "execution_count": null,
   "metadata": {
    "collapsed": true
   },
   "outputs": [],
   "source": []
  }
 ],
 "metadata": {
  "kernelspec": {
   "display_name": "Python 3",
   "language": "python",
   "name": "python3"
  },
  "language_info": {
   "codemirror_mode": {
    "name": "ipython",
    "version": 3
   },
   "file_extension": ".py",
   "mimetype": "text/x-python",
   "name": "python",
   "nbconvert_exporter": "python",
   "pygments_lexer": "ipython3",
   "version": "3.6.1"
  }
 },
 "nbformat": 4,
 "nbformat_minor": 2
}
