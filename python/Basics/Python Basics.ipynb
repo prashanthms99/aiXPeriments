{
 "cells": [
  {
   "cell_type": "code",
   "execution_count": 3,
   "metadata": {},
   "outputs": [
    {
     "name": "stdout",
     "output_type": "stream",
     "text": [
      "5 is of type <class 'int'>\n",
      "operations on numbers\n",
      "6\n",
      "4\n",
      "Hello is of type <class 'str'>\n",
      "operations on Strings\n",
      "Hello Pooja\n",
      "6.0 is of type <class 'float'>\n",
      "{1: 'value', 'key': 2} is of type <class 'dict'>\n",
      "(1, 2, 3) is of type <class 'tuple'>\n",
      "{1, 2, 3, 4, 5} is of type <class 'set'>\n",
      "{1: 'value', 'key': 2} is of type <class 'dict'>\n"
     ]
    }
   ],
   "source": [
    "#Basic Data Types\n",
    "\n",
    "a = 5\n",
    "\n",
    "b = 'Hello'\n",
    "c = 6.0\n",
    "d = [1,2,3]\n",
    "e = (1,2,3)\n",
    "f = {5,2,3,1,4}\n",
    "d = {1:'value','key':2}\n",
    "\n",
    "print(a, \"is of type\", type(a))\n",
    "print(\"operations on numbers\")\n",
    "print(a + 1)\n",
    "print(a -1)\n",
    "print(b, \"is of type\", type(b))\n",
    "print(\"operations on Strings\")\n",
    "print(b ,\"Pooja\")\n",
    "print()\n",
    "print(c, \"is of type\", type(c))\n",
    "print(d, \"is of type\", type(d))\n",
    "print(e, \"is of type\", type(e))\n",
    "print(f, \"is of type\", type(f))\n",
    "print(d, \"is of type\", type(d))\n",
    "\n"
   ]
  },
  {
   "cell_type": "code",
   "execution_count": 27,
   "metadata": {},
   "outputs": [
    {
     "name": "stdout",
     "output_type": "stream",
     "text": [
      "{'Two', 'One'}\n",
      "Two\n"
     ]
    }
   ],
   "source": [
    "#Python Dictionary\n",
    "\n",
    "d = {1:{'One','Two'print(1,2,3,4)},2:'Two'}\n",
    "\n",
    "print(d[1])\n",
    "print(d[2])\n",
    "\n",
    "\n",
    "\n",
    "\n"
   ]
  },
  {
   "cell_type": "code",
   "execution_count": 21,
   "metadata": {},
   "outputs": [
    {
     "data": {
      "text/plain": [
       "[1, 4, 9, 16, 25]"
      ]
     },
     "execution_count": 21,
     "metadata": {},
     "output_type": "execute_result"
    }
   ],
   "source": [
    "#The map(aFunction, aSequence) function applies a passed-in function to each item in an \n",
    "#iterable object and returns a list containing all the function call results.\n",
    "\n",
    "items = [1, 2, 3, 4, 5]\n",
    "def sqr(x): return x ** 2\n",
    "list(map(sqr, items))\n"
   ]
  },
  {
   "cell_type": "code",
   "execution_count": 28,
   "metadata": {},
   "outputs": [
    {
     "name": "stdout",
     "output_type": "stream",
     "text": [
      "1 2 3 4\n"
     ]
    }
   ],
   "source": [
    "print(1,2,3,4)"
   ]
  },
  {
   "cell_type": "code",
   "execution_count": 31,
   "metadata": {},
   "outputs": [
    {
     "data": {
      "text/plain": [
       "True"
      ]
     },
     "execution_count": 31,
     "metadata": {},
     "output_type": "execute_result"
    }
   ],
   "source": [
    " import webbrowser\n",
    "    \n",
    "webbrowser.open(\"https://www.youtube.com/watch?v=GBz-pwTyxtA\")"
   ]
  },
  {
   "cell_type": "code",
   "execution_count": null,
   "metadata": {
    "collapsed": true
   },
   "outputs": [],
   "source": []
  }
 ],
 "metadata": {
  "kernelspec": {
   "display_name": "Python 3",
   "language": "python",
   "name": "python3"
  },
  "language_info": {
   "codemirror_mode": {
    "name": "ipython",
    "version": 3
   },
   "file_extension": ".py",
   "mimetype": "text/x-python",
   "name": "python",
   "nbconvert_exporter": "python",
   "pygments_lexer": "ipython3",
   "version": "3.6.1"
  }
 },
 "nbformat": 4,
 "nbformat_minor": 2
}
