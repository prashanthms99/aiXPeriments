{
 "cells": [
  {
   "cell_type": "code",
   "execution_count": 6,
   "metadata": {},
   "outputs": [
    {
     "name": "stdout",
     "output_type": "stream",
     "text": [
      "Hello\n",
      "Provide Your Input:2\n",
      "Your Input is: 2\n"
     ]
    }
   ],
   "source": [
    "\n",
    "#Getting Input from User\n",
    "s=input(\"Provide Your Input:\")\n",
    "print(\"Your Input is:\",s)\n"
   ]
  },
  {
   "cell_type": "code",
   "execution_count": 45,
   "metadata": {},
   "outputs": [
    {
     "name": "stdout",
     "output_type": "stream",
     "text": [
      "str()function output: Hello\n",
      "repr()function output: 'Adam'\n",
      "str.rjust()function output:      Hello\n",
      "str.ljust()function output: Adam      \n",
      ".zfill() out put: 007\n",
      "We are the Indians who say \"Geeks!\"\n",
      "We are the Geeks who say \"Indians!\"\n",
      "We are the Indians who say \"Geeks!\"\n",
      "This spam is absolutely horrible.\n"
     ]
    }
   ],
   "source": [
    "r=\"Hello\"\n",
    "l=\"Adam\"\n",
    "print(\"str()function output:\",str(r))\n",
    "print(\"repr()function output:\",repr(l))\n",
    "#Print Right Justified String By 10 spaces\n",
    "print(\"str.rjust()function output:\",r.rjust(10))\n",
    "#Print Left Justified String By 10 spaces\n",
    "print(\"str.ljust()function output:\",l.ljust(10))\n",
    "#'7' is string \n",
    "print(\".zfill() out put:\",'7'.zfill(3))\n",
    "#str.format examples\n",
    "print('We are the {} who say \"{}!\"'.format('Indians', 'Geeks'))\n",
    "print('We are the {1} who say \"{0}!\"'.format('Indians', 'Geeks'))\n",
    "print('We are the {0} who say \"{1}!\"'.format('Indians', 'Geeks'))\n",
    "\n",
    "print('This {food} is {adjective}.'.format(food='spam', adjective='absolutely horrible'))\n"
   ]
  },
  {
   "cell_type": "code",
   "execution_count": null,
   "metadata": {
    "collapsed": true
   },
   "outputs": [],
   "source": []
  }
 ],
 "metadata": {
  "kernelspec": {
   "display_name": "Python 3",
   "language": "python",
   "name": "python3"
  },
  "language_info": {
   "codemirror_mode": {
    "name": "ipython",
    "version": 3
   },
   "file_extension": ".py",
   "mimetype": "text/x-python",
   "name": "python",
   "nbconvert_exporter": "python",
   "pygments_lexer": "ipython3",
   "version": "3.6.1"
  }
 },
 "nbformat": 4,
 "nbformat_minor": 2
}
